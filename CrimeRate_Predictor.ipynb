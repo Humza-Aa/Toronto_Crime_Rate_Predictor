{
 "cells": [
  {
   "cell_type": "code",
   "execution_count": 54,
   "metadata": {},
   "outputs": [
    {
     "ename": "ModuleNotFoundError",
     "evalue": "No module named 'sklearn'",
     "output_type": "error",
     "traceback": [
      "\u001b[0;31m---------------------------------------------------------------------------\u001b[0m",
      "\u001b[0;31mModuleNotFoundError\u001b[0m                       Traceback (most recent call last)",
      "Cell \u001b[0;32mIn[54], line 4\u001b[0m\n\u001b[1;32m      2\u001b[0m \u001b[39mimport\u001b[39;00m \u001b[39mmatplotlib\u001b[39;00m\u001b[39m.\u001b[39;00m\u001b[39mpyplot\u001b[39;00m \u001b[39mas\u001b[39;00m \u001b[39mplt\u001b[39;00m  \n\u001b[1;32m      3\u001b[0m \u001b[39mimport\u001b[39;00m \u001b[39mnumpy\u001b[39;00m \u001b[39mas\u001b[39;00m \u001b[39mnp\u001b[39;00m\n\u001b[0;32m----> 4\u001b[0m \u001b[39mfrom\u001b[39;00m \u001b[39msklearn\u001b[39;00m\u001b[39m.\u001b[39;00m\u001b[39mlinear_model\u001b[39;00m \u001b[39mimport\u001b[39;00m LinearRegression\n\u001b[1;32m      6\u001b[0m totalCrimes\u001b[39m=\u001b[39mpd\u001b[39m.\u001b[39mread_csv(\u001b[39m\"\u001b[39m\u001b[39mCrimeDataset.csv\u001b[39m\u001b[39m\"\u001b[39m)\n",
      "\u001b[0;31mModuleNotFoundError\u001b[0m: No module named 'sklearn'"
     ]
    }
   ],
   "source": [
    "import pandas as pd\n",
    "import matplotlib.pyplot as plt  \n",
    "import numpy as np\n",
    "from sklearn.linear_model import LinearRegression\n",
    "  \n",
    "totalCrimes=pd.read_csv(\"CrimeDataset.csv\")"
   ]
  },
  {
   "cell_type": "code",
   "execution_count": null,
   "metadata": {},
   "outputs": [],
   "source": [
    "HoodNames=totalCrimes[\"HoodName\"].unique()\n",
    "\n",
    "for Names in HoodNames:\n",
    "    Hood_TempName= totalCrimes[totalCrimes[\"HoodName\"] == Names]\n",
    "    years=[str(year)for year in range(2014,2022)]\n",
    "    crimes =Hood_TempName[['CrimesIn2014','CrimesIn2015','CrimesIn2016','CrimesIn2017','CrimesIn2018','CrimesIn2019','CrimesIn2020','CrimesIn2021']]\n",
    "    fig, ax = plt.subplots()\n",
    "    ax.scatter(years,crimes)\n",
    "    ax.set_title(Names)\n",
    "    ax.set_xlabel('Years')\n",
    "    ax.set_ylabel(\"# of Crimes\")\n",
    "    plt.show()"
   ]
  },
  {
   "cell_type": "code",
   "execution_count": null,
   "metadata": {},
   "outputs": [
    {
     "ename": "NameError",
     "evalue": "name 'LinearRegression' is not defined",
     "output_type": "error",
     "traceback": [
      "\u001b[0;31m---------------------------------------------------------------------------\u001b[0m",
      "\u001b[0;31mNameError\u001b[0m                                 Traceback (most recent call last)",
      "Cell \u001b[0;32mIn[49], line 13\u001b[0m\n\u001b[1;32m      6\u001b[0m crimes \u001b[39m=\u001b[39mHood_TempName[[\u001b[39m'\u001b[39m\u001b[39mCrimesIn2014\u001b[39m\u001b[39m'\u001b[39m,\u001b[39m'\u001b[39m\u001b[39mCrimesIn2015\u001b[39m\u001b[39m'\u001b[39m,\u001b[39m'\u001b[39m\u001b[39mCrimesIn2016\u001b[39m\u001b[39m'\u001b[39m,\u001b[39m'\u001b[39m\u001b[39mCrimesIn2017\u001b[39m\u001b[39m'\u001b[39m,\u001b[39m'\u001b[39m\u001b[39mCrimesIn2018\u001b[39m\u001b[39m'\u001b[39m,\u001b[39m'\u001b[39m\u001b[39mCrimesIn2019\u001b[39m\u001b[39m'\u001b[39m,\u001b[39m'\u001b[39m\u001b[39mCrimesIn2020\u001b[39m\u001b[39m'\u001b[39m,\u001b[39m'\u001b[39m\u001b[39mCrimesIn2021\u001b[39m\u001b[39m'\u001b[39m]]\n\u001b[1;32m      7\u001b[0m \u001b[39m# fig, ax = plt.subplots()\u001b[39;00m\n\u001b[1;32m      8\u001b[0m \u001b[39m# ax.scatter(years,crimes)\u001b[39;00m\n\u001b[1;32m      9\u001b[0m \u001b[39m# ax.set_title(Names)\u001b[39;00m\n\u001b[1;32m     10\u001b[0m \u001b[39m# ax.set_xlabel('Years')\u001b[39;00m\n\u001b[1;32m     11\u001b[0m \u001b[39m# ax.set_ylabel(\"# of Crimes\")\u001b[39;00m\n\u001b[0;32m---> 13\u001b[0m model\u001b[39m=\u001b[39m LinearRegression ()\n\u001b[1;32m     15\u001b[0m model\u001b[39m.\u001b[39mfit(years,crimes)\n\u001b[1;32m     18\u001b[0m newcrimes\u001b[39m=\u001b[39m np ([[\u001b[39m2025\u001b[39m],[\u001b[39m2030\u001b[39m],[\u001b[39m2040\u001b[39m]])\n",
      "\u001b[0;31mNameError\u001b[0m: name 'LinearRegression' is not defined"
     ]
    }
   ],
   "source": [
    "HoodNames=totalCrimes[\"HoodName\"].unique()\n",
    "\n",
    "for Names in HoodNames:\n",
    "    Hood_TempName= totalCrimes[totalCrimes[\"HoodName\"] == Names]\n",
    "    years=[str(year)for year in range(2014,2022)]\n",
    "    crimes =Hood_TempName[['CrimesIn2014','CrimesIn2015','CrimesIn2016','CrimesIn2017','CrimesIn2018','CrimesIn2019','CrimesIn2020','CrimesIn2021']]\n",
    "    # fig, ax = plt.subplots()\n",
    "    # ax.scatter(years,crimes)\n",
    "    # ax.set_title(Names)\n",
    "    # ax.set_xlabel('Years')\n",
    "    # ax.set_ylabel(\"# of Crimes\")\n",
    "\n",
    "    model= LinearRegression ()\n",
    "\n",
    "    model.fit(years,crimes)\n",
    "\n",
    "\n",
    "    newcrimes= np.array([[2025],[2030],[2040]])\n",
    "    newcrimes= model.predict(newcrimes)\n",
    "    print(\"Predictions:\" + newcrimes)\n",
    "    # plt.show()"
   ]
  }
 ],
 "metadata": {
  "kernelspec": {
   "display_name": "Python 3",
   "language": "python",
   "name": "python3"
  },
  "language_info": {
   "codemirror_mode": {
    "name": "ipython",
    "version": 3
   },
   "file_extension": ".py",
   "mimetype": "text/x-python",
   "name": "python",
   "nbconvert_exporter": "python",
   "pygments_lexer": "ipython3",
   "version": "3.9.6"
  },
  "orig_nbformat": 4
 },
 "nbformat": 4,
 "nbformat_minor": 2
}
