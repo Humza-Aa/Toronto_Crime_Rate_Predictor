{
 "cells": [
  {
   "attachments": {},
   "cell_type": "markdown",
   "metadata": {},
   "source": [
    "# Dataset preprocessing\n",
    "This file takes input of a raw csv file containing information about the different crimes committed each year in different Toronto neighbourhoods (see CrimeDataset.csv) and does some preprocessing to allow the data to be used in our ML polynomial regression model"
   ]
  },
  {
   "attachments": {},
   "cell_type": "markdown",
   "metadata": {},
   "source": [
    "### Importing required packages"
   ]
  },
  {
   "cell_type": "code",
   "execution_count": null,
   "metadata": {},
   "outputs": [],
   "source": [
    "#import required packages\n",
    "import pandas as pd\n",
    "import numpy as np\n",
    "toronto_crime=pd.read_csv(\"Crimes.csv\")"
   ]
  },
  {
   "attachments": {},
   "cell_type": "markdown",
   "metadata": {},
   "source": [
    "### Checking for duplicates and missing data"
   ]
  },
  {
   "cell_type": "code",
   "execution_count": null,
   "metadata": {},
   "outputs": [],
   "source": [
    "# Massage dataset\n",
    "#Print duplicates if any\n",
    "print('Duplicates: ', toronto_crime.duplicated().any())\n",
    "#print missing data if any\n",
    "print('Missing Data')\n",
    "toronto_crime.isnull().sum().sort_values(ascending=False)"
   ]
  },
  {
   "attachments": {},
   "cell_type": "markdown",
   "metadata": {},
   "source": [
    "### Parsing out and aggregating the crime data, then writing to a new csv file"
   ]
  },
  {
   "cell_type": "code",
   "execution_count": null,
   "metadata": {},
   "outputs": [],
   "source": [
    "#create arrays for data\n",
    "NeighbourHood=[]\n",
    "HoodID=[]\n",
    "Crimes =[]\n",
    "\n",
    "#parse out hood name and hood ID from dataset and assign to arrays\n",
    "NeighbourHood = toronto_crime['HoodName'].to_numpy()\n",
    "HoodID = toronto_crime['HoodID'].to_numpy()\n",
    "\n",
    "\n",
    "#for each year 2014-2021, combine all the crimes that occured in that year and append to the Crimes array\n",
    "count= 2014\n",
    "while (count < 2022) :\n",
    "    yearlyout = (toronto_crime['Assault_'+str(count)] +toronto_crime['AutoTheft_'+str(count)] + toronto_crime['BreakAndEnter_'+str(count)] + toronto_crime['Robbery_'+str(count)] + toronto_crime['Homicide_'+str(count)] + toronto_crime['Shootings_'+str(count)] + toronto_crime['TheftOver_'+str(count)] + toronto_crime['TheftfromMotorVehicle_'+str(count)])\n",
    "    Crimes.append(yearlyout)\n",
    "    count+=1\n",
    "\n",
    "#create new dataframe containing the hood id, hood name, and aggreagted crimes for the 7 years\n",
    "fd=pd.DataFrame ({\n",
    "'HoodID': toronto_crime['HoodID'],\n",
    "'HoodName': toronto_crime['HoodName'],\n",
    "'CrimesIn2014':Crimes[0],\n",
    "'CrimesIn2015':Crimes[1],\n",
    "'CrimesIn2016':Crimes[2],\n",
    "'CrimesIn2017':Crimes[3],\n",
    "'CrimesIn2018':Crimes[4],\n",
    "'CrimesIn2019':Crimes[5],\n",
    "'CrimesIn2020':Crimes[6],\n",
    "'CrimesIn2021':Crimes[7],\n",
    "})\n",
    "\n",
    "#convert the dataframe to a csv\n",
    "fd.to_csv(\"CrimeDataset.csv\",index=False)\n"
   ]
  }
 ],
 "metadata": {
  "kernelspec": {
   "display_name": "Python 3",
   "language": "python",
   "name": "python3"
  },
  "language_info": {
   "codemirror_mode": {
    "name": "ipython",
    "version": 3
   },
   "file_extension": ".py",
   "mimetype": "text/x-python",
   "name": "python",
   "nbconvert_exporter": "python",
   "pygments_lexer": "ipython3",
   "version": "3.9.10"
  },
  "orig_nbformat": 4
 },
 "nbformat": 4,
 "nbformat_minor": 2
}
