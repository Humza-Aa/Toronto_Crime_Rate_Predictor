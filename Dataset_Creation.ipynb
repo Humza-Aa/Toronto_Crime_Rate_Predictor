{
 "cells": [
  {
   "cell_type": "markdown",
   "metadata": {},
   "source": []
  },
  {
   "cell_type": "code",
   "execution_count": null,
   "metadata": {},
   "outputs": [],
   "source": [
    "import pandas as pd\n",
    "import numpy as np\n",
    "toronto_crime=pd.read_csv(\"Crimes.csv\")"
   ]
  },
  {
   "cell_type": "code",
   "execution_count": null,
   "metadata": {},
   "outputs": [],
   "source": [
    "# Massage dataset\n",
    "#Print duplicates if any\n",
    "print('Duplicates: ', toronto_crime.duplicated().any())\n",
    "#print missing data if any\n",
    "print('Missing Data')\n",
    "toronto_crime.isnull().sum().sort_values(ascending=False)"
   ]
  },
  {
   "cell_type": "code",
   "execution_count": null,
   "metadata": {},
   "outputs": [],
   "source": [
    "#Organize Data Set (Combining Crime rates for each year and organize them in a csv)\n",
    "\n",
    "## Hood Name\n",
    "## Hood ID\n",
    "## Assault \n",
    "## Auto Theft\n",
    "## BnE\n",
    "## Robbery\n",
    "## Himocide \n",
    "## Shooting\n",
    "## TheftOver\n",
    "## TheftMotorVehicles\n",
    "\n",
    "# for (index, row) in toronto_crime.iterrows():\n",
    "#toronto_crime.at[1, [\"A\"]]\n",
    "    \n"
   ]
  },
  {
   "cell_type": "code",
   "execution_count": null,
   "metadata": {},
   "outputs": [],
   "source": [
    "\n",
    "NeighbourHood=[]\n",
    "HoodID=[]\n",
    "Crimes =[]\n",
    "\n",
    "NeighbourHood = toronto_crime['HoodName'].to_numpy()\n",
    "HoodID = toronto_crime['HoodID'].to_numpy()\n",
    "\n",
    "\n",
    "\n",
    "count= 2014\n",
    "while (count < 2022) :\n",
    "    yearlyout = (toronto_crime['Assault_'+str(count)] +toronto_crime['AutoTheft_'+str(count)] + toronto_crime['BreakAndEnter_'+str(count)] + toronto_crime['Robbery_'+str(count)] + toronto_crime['Homicide_'+str(count)] + toronto_crime['Shootings_'+str(count)] + toronto_crime['TheftOver_'+str(count)] + toronto_crime['TheftfromMotorVehicle_'+str(count)])\n",
    "    Crimes.append(yearlyout)\n",
    "    count+=1\n",
    "\n",
    "fd=pd.DataFrame ({\n",
    "'HoodID': toronto_crime['HoodID'],\n",
    "'HoodName': toronto_crime['HoodName'],\n",
    "'CrimesIn2014':Crimes[0],\n",
    "'CrimesIn2015':Crimes[1],\n",
    "'CrimesIn2016':Crimes[2],\n",
    "'CrimesIn2017':Crimes[3],\n",
    "'CrimesIn2018':Crimes[4],\n",
    "'CrimesIn2019':Crimes[5],\n",
    "'CrimesIn2020':Crimes[6],\n",
    "'CrimesIn2021':Crimes[7],\n",
    "})\n",
    "\n",
    "fd.to_csv(\"CrimeDataset.csv\",index=False)\n"
   ]
  }
 ],
 "metadata": {
  "kernelspec": {
   "display_name": "Python 3",
   "language": "python",
   "name": "python3"
  },
  "language_info": {
   "codemirror_mode": {
    "name": "ipython",
    "version": 3
   },
   "file_extension": ".py",
   "mimetype": "text/x-python",
   "name": "python",
   "nbconvert_exporter": "python",
   "pygments_lexer": "ipython3",
   "version": "3.9.6"
  },
  "orig_nbformat": 4
 },
 "nbformat": 4,
 "nbformat_minor": 2
}
